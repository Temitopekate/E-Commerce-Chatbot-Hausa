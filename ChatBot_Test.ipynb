{
 "cells": [
  {
   "cell_type": "code",
   "execution_count": 3,
   "id": "d6f895d7",
   "metadata": {},
   "outputs": [
    {
     "name": "stdout",
     "output_type": "stream",
     "text": [
      "hello how can i help you\n"
     ]
    }
   ],
   "source": [
    "import nltk\n",
    "from googletrans import Translator\n",
    "\n",
    "# Download the necessary resources for nltk\n",
    "#nltk.download('punkt')\n",
    "\n",
    "def translate_and_preprocess(text, target_lang='en'):\n",
    "    # Translate from Hausa to English\n",
    "    translator = Translator()\n",
    "    translated_text = translator.translate(text, dest=target_lang).text\n",
    "    \n",
    "    # Tokenize and lowercase the translated text\n",
    "    tokens = nltk.word_tokenize(translated_text.lower())\n",
    "    cleaned_tokens = [token for token in tokens if token.isalnum()]\n",
    "    \n",
    "    # Join the cleaned tokens to form a string\n",
    "    cleaned_text = ' '.join(cleaned_tokens)\n",
    "    \n",
    "    return cleaned_text\n",
    "\n",
    "input_hausa = \"Sannu, ta yaya zan iya taimaka muku?\"\n",
    "\n",
    "processed_text = translate_and_preprocess(input_hausa)\n",
    "print(processed_text)"
   ]
  },
  {
   "cell_type": "code",
   "execution_count": null,
   "id": "592280d6",
   "metadata": {},
   "outputs": [],
   "source": []
  },
  {
   "cell_type": "code",
   "execution_count": 4,
   "id": "66cb490e",
   "metadata": {},
   "outputs": [
    {
     "name": "stdout",
     "output_type": "stream",
     "text": [
      "No specific intent detected.\n"
     ]
    }
   ],
   "source": [
    "def detect_intent(text):\n",
    "    if 'greeting' in text:\n",
    "        return \"Greeting intent detected.\"\n",
    "    elif 'farewell' in text:\n",
    "        return \"Farewell intent detected.\"\n",
    "    else:\n",
    "        return \"No specific intent detected.\"\n",
    "\n",
    "intent = detect_intent(processed_text)\n",
    "print(intent)"
   ]
  }
 ],
 "metadata": {
  "kernelspec": {
   "display_name": "Python 3 (ipykernel)",
   "language": "python",
   "name": "python3"
  },
  "language_info": {
   "codemirror_mode": {
    "name": "ipython",
    "version": 3
   },
   "file_extension": ".py",
   "mimetype": "text/x-python",
   "name": "python",
   "nbconvert_exporter": "python",
   "pygments_lexer": "ipython3",
   "version": "3.11.4"
  }
 },
 "nbformat": 4,
 "nbformat_minor": 5
}
